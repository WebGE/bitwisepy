{
 "cells": [
  {
   "cell_type": "markdown",
   "metadata": {},
   "source": [
    "# Opération sur les bits en Python <span style=\"color:red\">En cours de rédaction</span>"
   ]
  },
  {
   "cell_type": "markdown",
   "metadata": {},
   "source": [
    "**Ressources** : <a href=\"https://webge.synology.me/dokuwiki/doku.php?id=python:accueilpython\" target=\"_blank\"><input type=\"button\" value=\"Wiki Python sur WebGE\"></a>"
   ]
  },
  {
   "cell_type": "markdown",
   "metadata": {},
   "source": [
    "## 1. Présentation\n",
    "Python dispose d'opérateurs <strong>bit-à-bit</strong> (bitwise) qui agissent directement sur les nombres au niveau des <em>bits</em>. \n",
    "\n",
    "Ces opérateurs sont au nombre de six :<br>\n",
    "<img src=\"img/ET.png\" style=\"float:right\">\n",
    "'<strong>&</strong>': ET. <br>\n",
    "'<strong>|</strong>': OU.  <br>\n",
    "'<strong>^</strong>': OU EXCLUSIF.  <br>\n",
    "'<strong>~</strong>': INVERSION des bits du nombre situé à droite.  <br>\n",
    "'<strong>»</strong>': DECALAGE d'un bit à DROITE (correspond à une division par 2)  <br>\n",
    "'<strong>«</strong>': DECALAGE d'un bit à GAUCHE (correspond à une multiplication par 2)  <br>"
   ]
  },
  {
   "cell_type": "code",
   "execution_count": null,
   "metadata": {},
   "outputs": [],
   "source": [
    "# Exemple\n",
    "bin(0b0101 & 0b1100) #0b identifie la valeur qui suit comme étant un nombre binaire"
   ]
  },
  {
   "cell_type": "markdown",
   "metadata": {},
   "source": [
    "<table>\n",
    "    <tr>\n",
    "        <td><img src=\"img/remarquemin.png\" width=\"30px\"></td>\n",
    "        <td><p style=\"font-size:14px;\">Comme on le voit ci-dessus, Python n'affiche les <em>bits</em> d'un nombre binaire qu'à partir du premier <em>bit</em> non nul.</p></td>\n",
    "    </tr>\n",
    "</table>   \n",
    "  "
   ]
  },
  {
   "cell_type": "markdown",
   "metadata": {},
   "source": [
    "## 2. Problème à résoudre\n",
    "**Source**: <a href=\"https://www.editions-ellipses.fr/accueil/118-specialite-numerique-et-sciences-informatiques-30-lecons-avec-exercices-corriges-premiere-nouveaux-programmes-9782340033641.html\" target=\"_blank\">Numérique et sciences informatiques 1<sup>er</sup>- Ellipses</a> \n",
    "\n",
    "**Enoncé** : Ecrire un programme Python qui affiche la table d'une opération logique pour tous les entiers de <em>n bits</em>.<br>\n",
    "\n",
    "<em>Exemple</em> <br>\n",
    "\n",
    "Pour l'opération **ET** logique et **n = 3**, le programme devra afficher :\n",
    "\n",
    "<table style=\"text-align:center; font-size:14px;\">\n",
    "    <tr>\n",
    "        <td>000 001 010 011 100 101 110 111</td>\n",
    "    </tr>\n",
    "    <tr>\n",
    "        <td>000 000 000 000 000 000 000 000 000</td>\n",
    "    </tr>\n",
    "    <tr>\n",
    "        <td>001 000 001 000 001 000 001 000 001</td>\n",
    "    </tr>\n",
    "    <tr>\n",
    "        <td>010 000 000 010 010 000 000 010 010</td>\n",
    "    </tr>\n",
    "    <tr>\n",
    "         <td>etc.</td>\n",
    "    </tr>\n",
    "</table>"
   ]
  },
  {
   "cell_type": "markdown",
   "metadata": {},
   "source": [
    "### 2.1 Algorithmique"
   ]
  },
  {
   "cell_type": "markdown",
   "metadata": {},
   "source": [
    "> **Activité 1. Proposez** un algorithme pour répondre à l'énoncé ci-dessus. "
   ]
  },
  {
   "cell_type": "markdown",
   "metadata": {},
   "source": [
    "### 2.2 Code"
   ]
  },
  {
   "cell_type": "code",
   "execution_count": null,
   "metadata": {},
   "outputs": [],
   "source": []
  },
  {
   "cell_type": "markdown",
   "metadata": {},
   "source": [
    "> **Activité 2. Ecrivez** le code répondant à l'énoncé ci-dessus.\n",
    "\n",
    "####  Conseils pour l'écriture du code\n",
    "**Version 1** : faire un programme renvoyant uniquement les résultats (opération ET, n=2)\n",
    "\n",
    "<em>Résultat attendu</em>\n",
    "\n",
    "['0b0', '0b0', '0b0', '0b0']\n",
    "\n",
    "['0b0', '0b1', '0b0', '0b1']\n",
    "\n",
    "['0b0', '0b0', '0b10', '0b10']\n",
    "\n",
    "['0b0', '0b1', '0b10', '0b11']\n",
    "\n",
    "**Version 2** : mettre les résultats en forme (opération ET, n=2)\n",
    "\n",
    "**Version 3** : généraliser à n et aux autres opérations (créer des fonctions)"
   ]
  },
  {
   "cell_type": "markdown",
   "metadata": {},
   "source": [
    "### Version 1"
   ]
  },
  {
   "cell_type": "code",
   "execution_count": null,
   "metadata": {},
   "outputs": [],
   "source": [
    "# A compléter\n",
    "# Le programme renvoie uniquement les résultats (opération ET, n=2)\n"
   ]
  }
 ],
 "metadata": {
  "kernelspec": {
   "display_name": "Python 3",
   "language": "python",
   "name": "python3"
  },
  "language_info": {
   "codemirror_mode": {
    "name": "ipython",
    "version": 3
   },
   "file_extension": ".py",
   "mimetype": "text/x-python",
   "name": "python",
   "nbconvert_exporter": "python",
   "pygments_lexer": "ipython3",
   "version": "3.7.6"
  }
 },
 "nbformat": 4,
 "nbformat_minor": 4
}
